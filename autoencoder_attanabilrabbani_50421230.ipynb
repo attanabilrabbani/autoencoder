{
  "nbformat": 4,
  "nbformat_minor": 0,
  "metadata": {
    "colab": {
      "provenance": []
    },
    "kernelspec": {
      "name": "python3",
      "display_name": "Python 3"
    },
    "language_info": {
      "name": "python"
    }
  },
  "cells": [
    {
      "cell_type": "markdown",
      "source": [
        "**IMPORT LIBRARY**"
      ],
      "metadata": {
        "id": "Gbr_mVh7YG4Y"
      }
    },
    {
      "cell_type": "code",
      "execution_count": 36,
      "metadata": {
        "id": "mdQ7LCdrjlcD"
      },
      "outputs": [],
      "source": [
        "import tensorflow as tf\n",
        "from tensorflow import keras\n",
        "import matplotlib.pyplot as plt\n",
        "import cv2\n",
        "import numpy as np"
      ]
    },
    {
      "cell_type": "markdown",
      "source": [
        "**MENGAMBIL DAN MENAMPILKAN DATA**"
      ],
      "metadata": {
        "id": "GzOPzVsWY3zb"
      }
    },
    {
      "cell_type": "code",
      "source": [
        "from tensorflow.keras import layers, losses\n",
        "from tensorflow.keras.datasets import fashion_mnist\n",
        "from tensorflow.keras.models import Model\n",
        "#mengambil data fashion\n",
        "(x_train, y_train),(x_test,y_test) = fashion_mnist.load_data()"
      ],
      "metadata": {
        "id": "ywFLJDaZXkz6"
      },
      "execution_count": 37,
      "outputs": []
    },
    {
      "cell_type": "code",
      "source": [
        "#menampilkan jumlah contoh\n",
        "train_shape = x_train.shape\n",
        "test_shape = x_test.shape\n",
        "\n",
        "print(f\"{train_shape[0]} Contoh, Ukuran: ({train_shape[1]}, {train_shape[2]}) (training image)\")\n",
        "print(f\"{test_shape[0]} Contoh, ukuran: ({test_shape[1]}, {test_shape[2]}) (test image)\")"
      ],
      "metadata": {
        "colab": {
          "base_uri": "https://localhost:8080/"
        },
        "id": "3xU-Tp-oYBq2",
        "outputId": "eb5fa897-d646-4b66-ae2a-7e31e29ae031"
      },
      "execution_count": 38,
      "outputs": [
        {
          "output_type": "stream",
          "name": "stdout",
          "text": [
            "60000 Contoh, Ukuran: (28, 28) (training image)\n",
            "10000 Contoh, ukuran: (28, 28) (test image)\n"
          ]
        }
      ]
    },
    {
      "cell_type": "code",
      "source": [
        "plt.imshow(x_train[1230], cmap = 'gray')"
      ],
      "metadata": {
        "colab": {
          "base_uri": "https://localhost:8080/",
          "height": 448
        },
        "id": "uxAtnxGBZpNu",
        "outputId": "be734d30-cf01-4af0-d37b-507fc3093735"
      },
      "execution_count": 40,
      "outputs": [
        {
          "output_type": "execute_result",
          "data": {
            "text/plain": [
              "<matplotlib.image.AxesImage at 0x787456a840a0>"
            ]
          },
          "metadata": {},
          "execution_count": 40
        },
        {
          "output_type": "display_data",
          "data": {
            "text/plain": [
              "<Figure size 640x480 with 1 Axes>"
            ],
            "image/png": "[encoded data removed]"
          },
          "metadata": {}
        }
      ]
    },
    {
      "cell_type": "code",
      "source": [
        "x_train = x_train / 255.0\n",
        "x_test = x_test / 255.0"
      ],
      "metadata": {
        "id": "7AU1EIZCb6uD"
      },
      "execution_count": 42,
      "outputs": []
    },
    {
      "cell_type": "code",
      "source": [
        "x_train[1230]"
      ],
      "metadata": {
        "colab": {
          "base_uri": "https://localhost:8080/"
        },
        "id": "gWUr8oHKcKSN",
        "outputId": "b409be8a-b95f-426b-e7e9-b8d799abede1"
      },
      "execution_count": 43,
      "outputs": [
        {
          "output_type": "execute_result",
          "data": {
            "text/plain": [
              "array([[0.        , 0.        , 0.        , 0.        , 0.        ,\n",
              "        0.        , 0.        , 0.        , 0.        , 0.18431373,\n",
              "        0.47843137, 0.4745098 , 0.57647059, 0.52941176, 0.49803922,\n",
              "        0.51764706, 0.56470588, 0.59215686, 0.54117647, 0.2745098 ,\n",
              "        0.        , 0.        , 0.        , 0.        , 0.        ,\n",
              "        0.        , 0.        , 0.        ],\n",
              "       [0.        , 0.        , 0.        , 0.        , 0.        ,\n",
              "        0.        , 0.        , 0.        , 0.        , 0.59607843,\n",
              "        0.60392157, 0.50980392, 0.62745098, 0.67058824, 0.73333333,\n",
              "        0.61960784, 0.52156863, 0.37647059, 0.37647059, 0.39215686,\n",
              "        0.        , 0.        , 0.        , 0.        , 0.        ,\n",
              "        0.        , 0.        , 0.        ],\n",
              "       [0.        , 0.        , 0.        , 0.        , 0.        ,\n",
              "        0.        , 0.        , 0.        , 0.        , 0.44313725,\n",
              "        0.50588235, 0.47843137, 0.49019608, 0.4745098 , 0.38823529,\n",
              "        0.31372549, 0.30588235, 0.3372549 , 0.43137255, 0.44705882,\n",
              "        0.        , 0.        , 0.        , 0.        , 0.        ,\n",
              "        0.        , 0.        , 0.        ],\n",
              "       [0.        , 0.        , 0.        , 0.        , 0.        ,\n",
              "        0.        , 0.        , 0.        , 0.09019608, 0.74509804,\n",
              "        0.47843137, 0.37647059, 0.45490196, 0.41176471, 0.47843137,\n",
              "        0.51764706, 0.60392157, 0.52941176, 0.3372549 , 0.39215686,\n",
              "        0.10980392, 0.        , 0.        , 0.        , 0.        ,\n",
              "        0.        , 0.        , 0.        ],\n",
              "       [0.        , 0.        , 0.        , 0.        , 0.        ,\n",
              "        0.        , 0.        , 0.28627451, 0.57254902, 0.43137255,\n",
              "        0.48627451, 0.42352941, 0.45490196, 0.39215686, 0.37647059,\n",
              "        0.36862745, 0.33333333, 0.31764706, 0.29411765, 0.31764706,\n",
              "        0.49803922, 0.25098039, 0.        , 0.        , 0.        ,\n",
              "        0.        , 0.        , 0.        ],\n",
              "       [0.        , 0.        , 0.        , 0.        , 0.        ,\n",
              "        0.        , 0.20784314, 0.51764706, 0.38823529, 0.59215686,\n",
              "        0.44705882, 0.41960784, 0.44705882, 0.51764706, 0.51764706,\n",
              "        0.40392157, 0.36862745, 0.31764706, 0.33333333, 0.41960784,\n",
              "        0.36078431, 0.44705882, 0.09803922, 0.        , 0.        ,\n",
              "        0.        , 0.        , 0.        ],\n",
              "       [0.        , 0.        , 0.        , 0.        , 0.        ,\n",
              "        0.        , 0.35686275, 0.46666667, 0.34901961, 0.36078431,\n",
              "        0.49803922, 0.52156863, 0.41960784, 0.34901961, 0.40392157,\n",
              "        0.44313725, 0.38039216, 0.43529412, 0.44705882, 0.36078431,\n",
              "        0.33333333, 0.41176471, 0.25882353, 0.        , 0.        ,\n",
              "        0.        , 0.        , 0.        ],\n",
              "       [0.        , 0.        , 0.        , 0.        , 0.        ,\n",
              "        0.        , 0.45490196, 0.44313725, 0.44313725, 0.34901961,\n",
              "        0.31372549, 0.34509804, 0.34509804, 0.37647059, 0.38039216,\n",
              "        0.36862745, 0.36862745, 0.23921569, 0.25882353, 0.34901961,\n",
              "        0.3254902 , 0.4       , 0.34901961, 0.        , 0.        ,\n",
              "        0.        , 0.        , 0.        ],\n",
              "       [0.        , 0.        , 0.        , 0.        , 0.        ,\n",
              "        0.00392157, 0.47843137, 0.39215686, 0.49019608, 0.36078431,\n",
              "        0.33333333, 0.34509804, 0.34509804, 0.35686275, 0.34901961,\n",
              "        0.37647059, 0.24313725, 0.8627451 , 0.64705882, 0.21960784,\n",
              "        0.36862745, 0.38039216, 0.38823529, 0.        , 0.        ,\n",
              "        0.        , 0.        , 0.        ],\n",
              "       [0.        , 0.        , 0.        , 0.        , 0.        ,\n",
              "        0.09803922, 0.4745098 , 0.38823529, 0.66666667, 0.41960784,\n",
              "        0.3254902 , 0.31764706, 0.34901961, 0.35686275, 0.3372549 ,\n",
              "        0.36078431, 0.30196078, 0.48627451, 0.41176471, 0.25098039,\n",
              "        0.4627451 , 0.34901961, 0.39215686, 0.01176471, 0.        ,\n",
              "        0.        , 0.        , 0.        ],\n",
              "       [0.        , 0.        , 0.        , 0.        , 0.        ,\n",
              "        0.15686275, 0.47843137, 0.34901961, 0.8627451 , 0.52156863,\n",
              "        0.38039216, 0.3372549 , 0.34509804, 0.35686275, 0.34901961,\n",
              "        0.35686275, 0.36862745, 0.30196078, 0.25098039, 0.47843137,\n",
              "        0.72156863, 0.27058824, 0.42352941, 0.07843137, 0.        ,\n",
              "        0.        , 0.        , 0.        ],\n",
              "       [0.        , 0.        , 0.        , 0.        , 0.        ,\n",
              "        0.21568627, 0.44313725, 0.38039216, 0.72156863, 0.54117647,\n",
              "        0.46666667, 0.37647059, 0.36078431, 0.38039216, 0.36862745,\n",
              "        0.36078431, 0.35686275, 0.38039216, 0.37647059, 0.44705882,\n",
              "        0.7254902 , 0.31372549, 0.41960784, 0.12156863, 0.        ,\n",
              "        0.        , 0.        , 0.        ],\n",
              "       [0.        , 0.        , 0.        , 0.        , 0.        ,\n",
              "        0.28627451, 0.44313725, 0.43529412, 0.62745098, 0.54117647,\n",
              "        0.48627451, 0.40392157, 0.36078431, 0.37647059, 0.36078431,\n",
              "        0.36862745, 0.36078431, 0.35686275, 0.38039216, 0.34901961,\n",
              "        0.52941176, 0.42352941, 0.41176471, 0.15686275, 0.        ,\n",
              "        0.        , 0.        , 0.        ],\n",
              "       [0.        , 0.        , 0.        , 0.        , 0.        ,\n",
              "        0.31764706, 0.41960784, 0.48627451, 0.31764706, 0.51764706,\n",
              "        0.49019608, 0.41960784, 0.37647059, 0.36862745, 0.36862745,\n",
              "        0.36078431, 0.36862745, 0.35686275, 0.43137255, 0.3254902 ,\n",
              "        0.35686275, 0.4745098 , 0.41960784, 0.2       , 0.        ,\n",
              "        0.        , 0.        , 0.        ],\n",
              "       [0.        , 0.        , 0.        , 0.        , 0.        ,\n",
              "        0.36862745, 0.41176471, 0.53333333, 0.17254902, 0.51764706,\n",
              "        0.50980392, 0.41176471, 0.38039216, 0.36078431, 0.37647059,\n",
              "        0.36078431, 0.35686275, 0.34901961, 0.43529412, 0.29411765,\n",
              "        0.3372549 , 0.53333333, 0.38823529, 0.21960784, 0.        ,\n",
              "        0.        , 0.        , 0.        ],\n",
              "       [0.        , 0.        , 0.        , 0.        , 0.        ,\n",
              "        0.40392157, 0.4       , 0.53333333, 0.07843137, 0.4745098 ,\n",
              "        0.53333333, 0.43137255, 0.4       , 0.37647059, 0.37647059,\n",
              "        0.36862745, 0.36078431, 0.3372549 , 0.45490196, 0.21960784,\n",
              "        0.28235294, 0.55294118, 0.4       , 0.25882353, 0.        ,\n",
              "        0.        , 0.        , 0.        ],\n",
              "       [0.        , 0.        , 0.        , 0.        , 0.        ,\n",
              "        0.41960784, 0.4       , 0.57647059, 0.00392157, 0.49803922,\n",
              "        0.54117647, 0.41176471, 0.39215686, 0.37647059, 0.38039216,\n",
              "        0.37647059, 0.37647059, 0.34509804, 0.44705882, 0.21568627,\n",
              "        0.23921569, 0.56470588, 0.4       , 0.2745098 , 0.        ,\n",
              "        0.        , 0.        , 0.        ],\n",
              "       [0.        , 0.        , 0.        , 0.        , 0.        ,\n",
              "        0.44313725, 0.40392157, 0.57647059, 0.        , 0.49803922,\n",
              "        0.51764706, 0.41960784, 0.4       , 0.38823529, 0.38039216,\n",
              "        0.37647059, 0.37647059, 0.35686275, 0.44705882, 0.22745098,\n",
              "        0.18431373, 0.57647059, 0.39215686, 0.28235294, 0.        ,\n",
              "        0.        , 0.        , 0.        ],\n",
              "       [0.        , 0.        , 0.        , 0.        , 0.        ,\n",
              "        0.47843137, 0.40392157, 0.56470588, 0.        , 0.51764706,\n",
              "        0.48627451, 0.43137255, 0.41960784, 0.40392157, 0.39215686,\n",
              "        0.38823529, 0.38039216, 0.35686275, 0.44313725, 0.25098039,\n",
              "        0.13333333, 0.58431373, 0.39215686, 0.28627451, 0.        ,\n",
              "        0.        , 0.        , 0.        ],\n",
              "       [0.        , 0.        , 0.        , 0.        , 0.        ,\n",
              "        0.4745098 , 0.41960784, 0.50980392, 0.09019608, 0.60392157,\n",
              "        0.44313725, 0.41960784, 0.42352941, 0.41960784, 0.4       ,\n",
              "        0.38823529, 0.38039216, 0.34901961, 0.40392157, 0.3372549 ,\n",
              "        0.12156863, 0.59607843, 0.4       , 0.30588235, 0.        ,\n",
              "        0.        , 0.        , 0.        ],\n",
              "       [0.        , 0.        , 0.        , 0.        , 0.        ,\n",
              "        0.46666667, 0.43529412, 0.43529412, 0.17647059, 0.60392157,\n",
              "        0.42352941, 0.43137255, 0.42352941, 0.41176471, 0.39215686,\n",
              "        0.38823529, 0.38039216, 0.36862745, 0.35686275, 0.4       ,\n",
              "        0.29411765, 0.54117647, 0.40392157, 0.31764706, 0.        ,\n",
              "        0.        , 0.        , 0.        ],\n",
              "       [0.        , 0.        , 0.        , 0.        , 0.        ,\n",
              "        0.46666667, 0.44705882, 0.41960784, 0.31372549, 0.58431373,\n",
              "        0.41960784, 0.44313725, 0.43529412, 0.43137255, 0.40392157,\n",
              "        0.4       , 0.38823529, 0.36862745, 0.34901961, 0.37647059,\n",
              "        0.25882353, 0.54901961, 0.41960784, 0.3254902 , 0.        ,\n",
              "        0.        , 0.        , 0.        ],\n",
              "       [0.        , 0.        , 0.        , 0.        , 0.        ,\n",
              "        0.46666667, 0.53333333, 0.38823529, 0.41960784, 0.52941176,\n",
              "        0.43137255, 0.43137255, 0.42352941, 0.42352941, 0.43137255,\n",
              "        0.41960784, 0.40392157, 0.38039216, 0.35686275, 0.41176471,\n",
              "        0.19607843, 0.59215686, 0.52156863, 0.28235294, 0.        ,\n",
              "        0.        , 0.        , 0.        ],\n",
              "       [0.        , 0.        , 0.        , 0.        , 0.        ,\n",
              "        0.46666667, 0.53333333, 0.38823529, 0.4745098 , 0.39215686,\n",
              "        0.36078431, 0.40392157, 0.4       , 0.4       , 0.38039216,\n",
              "        0.38039216, 0.38823529, 0.35686275, 0.34901961, 0.36862745,\n",
              "        0.25882353, 0.56078431, 0.52156863, 0.25882353, 0.        ,\n",
              "        0.        , 0.        , 0.        ],\n",
              "       [0.        , 0.        , 0.        , 0.        , 0.        ,\n",
              "        0.45490196, 0.54901961, 0.36862745, 0.43529412, 0.60784314,\n",
              "        0.43529412, 0.46666667, 0.49019608, 0.49019608, 0.47843137,\n",
              "        0.46666667, 0.45490196, 0.42352941, 0.39215686, 0.45490196,\n",
              "        0.2627451 , 0.50980392, 0.53333333, 0.2627451 , 0.        ,\n",
              "        0.        , 0.        , 0.        ],\n",
              "       [0.        , 0.        , 0.        , 0.        , 0.        ,\n",
              "        0.4745098 , 0.53333333, 0.38823529, 0.4627451 , 1.        ,\n",
              "        0.57647059, 0.4627451 , 0.52941176, 0.52941176, 0.52941176,\n",
              "        0.50588235, 0.50588235, 0.46666667, 0.41176471, 0.53333333,\n",
              "        0.28235294, 0.48627451, 0.55294118, 0.28235294, 0.        ,\n",
              "        0.        , 0.        , 0.        ],\n",
              "       [0.        , 0.        , 0.        , 0.        , 0.        ,\n",
              "        0.47843137, 0.53333333, 0.4       , 0.29411765, 0.85490196,\n",
              "        0.50588235, 0.41960784, 0.4745098 , 0.4745098 , 0.45490196,\n",
              "        0.44313725, 0.44705882, 0.45490196, 0.41960784, 0.47843137,\n",
              "        0.21568627, 0.54117647, 0.54117647, 0.27058824, 0.        ,\n",
              "        0.        , 0.        , 0.        ],\n",
              "       [0.        , 0.        , 0.        , 0.        , 0.        ,\n",
              "        0.40392157, 0.51764706, 0.41176471, 0.        , 0.        ,\n",
              "        0.        , 0.        , 0.        , 0.        , 0.        ,\n",
              "        0.        , 0.        , 0.        , 0.        , 0.        ,\n",
              "        0.        , 0.54901961, 0.51764706, 0.24313725, 0.        ,\n",
              "        0.        , 0.        , 0.        ]])"
            ]
          },
          "metadata": {},
          "execution_count": 43
        }
      ]
    },
    {
      "cell_type": "markdown",
      "source": [
        "**MEMBUAT MODEL**"
      ],
      "metadata": {
        "id": "JfON1yTLhvjE"
      }
    },
    {
      "cell_type": "code",
      "source": [
        "encode_input = keras.Input(shape=(28,28,1),name=\"image\")#mengambil input\n",
        "input = keras.layers.Flatten()(encode_input)\n",
        "encoding = keras.layers.Dense(512, activation=\"relu\")(input)\n",
        "encoding = keras.layers.Dense(256, activation=\"relu\")(encoding)\n",
        "encoding = keras.layers.Dense(128, activation=\"relu\")(encoding)\n",
        "encoding = keras.layers.Dense(64, activation=\"relu\")(encoding)#mengecilkan ukuran gambar\n",
        "\n",
        "encode = keras.Model(encode_input, encoding, name=\"encoder\")#membuat model encode\n",
        "\n",
        "decoder_input = keras.layers.Dense(64, activation='relu')(encoding)\n",
        "decoding = keras.layers.Dense(128, activation='relu')(decoder_input)\n",
        "decoding = keras.layers.Dense(256, activation='relu')(decoding)\n",
        "decoding = keras.layers.Dense(512, activation='relu')(decoding)\n",
        "decoding = keras.layers.Dense(784, activation='relu')(decoding)#mengembalikan ukuran gambar 784\n",
        "\n",
        "decode = keras.layers.Reshape((28,28,1))(decoding) #membuat model decode\n",
        "\n",
        "autoencoder = keras.Model(encode_input, decode, name=\"autoencoder\")#membuat model autoencoder"
      ],
      "metadata": {
        "id": "ccFE1S5mc3d2"
      },
      "execution_count": 44,
      "outputs": []
    },
    {
      "cell_type": "code",
      "source": [
        "opt = keras.optimizers.Adam()\n",
        "autoencoder.compile(optimizer=opt,\n",
        "                    loss='mean_squared_error',\n",
        "                    metrics=['mse']) #kompilasi model autoencoder\n",
        "\n",
        "autoencoder.fit(x_train, x_train, #melatih model autoencoder\n",
        "                epochs=10,#jumlah iterasi pelatihan\n",
        "                batch_size=100,#mengatur ukuran batch selama pelatihan\n",
        "                shuffle=True,#mengatur apakah data pelatihan akan diacak sebelum setiap epoch\n",
        "                validation_data=(x_train, x_train))#validasi data"
      ],
      "metadata": {
        "colab": {
          "base_uri": "https://localhost:8080/"
        },
        "id": "_-CNgMBhtP2p",
        "outputId": "5d27a1d6-0459-4cd8-9f77-4849f2ee826c"
      },
      "execution_count": 45,
      "outputs": [
        {
          "output_type": "stream",
          "name": "stdout",
          "text": [
            "Epoch 1/10\n",
            "600/600 [==============================] - 33s 52ms/step - loss: 0.0365 - mse: 0.0365 - val_loss: 0.0223 - val_mse: 0.0223\n",
            "Epoch 2/10\n",
            "600/600 [==============================] - 28s 47ms/step - loss: 0.0202 - mse: 0.0202 - val_loss: 0.0182 - val_mse: 0.0182\n",
            "Epoch 3/10\n",
            "600/600 [==============================] - 22s 36ms/step - loss: 0.0170 - mse: 0.0170 - val_loss: 0.0159 - val_mse: 0.0159\n",
            "Epoch 4/10\n",
            "600/600 [==============================] - 23s 38ms/step - loss: 0.0153 - mse: 0.0153 - val_loss: 0.0149 - val_mse: 0.0149\n",
            "Epoch 5/10\n",
            "600/600 [==============================] - 22s 37ms/step - loss: 0.0147 - mse: 0.0147 - val_loss: 0.0142 - val_mse: 0.0142\n",
            "Epoch 6/10\n",
            "600/600 [==============================] - 21s 36ms/step - loss: 0.0139 - mse: 0.0139 - val_loss: 0.0134 - val_mse: 0.0134\n",
            "Epoch 7/10\n",
            "600/600 [==============================] - 21s 36ms/step - loss: 0.0133 - mse: 0.0133 - val_loss: 0.0129 - val_mse: 0.0129\n",
            "Epoch 8/10\n",
            "600/600 [==============================] - 23s 38ms/step - loss: 0.0129 - mse: 0.0129 - val_loss: 0.0127 - val_mse: 0.0127\n",
            "Epoch 9/10\n",
            "600/600 [==============================] - 23s 38ms/step - loss: 0.0125 - mse: 0.0125 - val_loss: 0.0121 - val_mse: 0.0121\n",
            "Epoch 10/10\n",
            "600/600 [==============================] - 21s 35ms/step - loss: 0.0122 - mse: 0.0122 - val_loss: 0.0119 - val_mse: 0.0119\n"
          ]
        },
        {
          "output_type": "execute_result",
          "data": {
            "text/plain": [
              "<keras.src.callbacks.History at 0x78746ebb6620>"
            ]
          },
          "metadata": {},
          "execution_count": 45
        }
      ]
    },
    {
      "cell_type": "code",
      "source": [
        "plt.imshow(x_test[1230],cmap='gray')"
      ],
      "metadata": {
        "colab": {
          "base_uri": "https://localhost:8080/",
          "height": 448
        },
        "id": "vENRUUMPyGcY",
        "outputId": "883be428-551b-4b01-d915-a92ed747e1cb"
      },
      "execution_count": 46,
      "outputs": [
        {
          "output_type": "execute_result",
          "data": {
            "text/plain": [
              "<matplotlib.image.AxesImage at 0x787459452aa0>"
            ]
          },
          "metadata": {},
          "execution_count": 46
        },
        {
          "output_type": "display_data",
          "data": {
            "text/plain": [
              "<Figure size 640x480 with 1 Axes>"
            ],
            "image/png": "[encoded data removed]"
          },
          "metadata": {}
        }
      ]
    },
    {
      "cell_type": "code",
      "source": [
        "plt.imshow(autoencoder.predict([x_test[1230].reshape(-1,28,28,1)])[0], cmap='gray')"
      ],
      "metadata": {
        "colab": {
          "base_uri": "https://localhost:8080/",
          "height": 466
        },
        "id": "Mkmv2aIzwG-f",
        "outputId": "0d382439-6a9d-4ec7-8b44-8da82d999d51"
      },
      "execution_count": 47,
      "outputs": [
        {
          "output_type": "stream",
          "name": "stdout",
          "text": [
            "1/1 [==============================] - 0s 138ms/step\n"
          ]
        },
        {
          "output_type": "execute_result",
          "data": {
            "text/plain": [
              "<matplotlib.image.AxesImage at 0x787456c8d240>"
            ]
          },
          "metadata": {},
          "execution_count": 47
        },
        {
          "output_type": "display_data",
          "data": {
            "text/plain": [
              "<Figure size 640x480 with 1 Axes>"
            ],
            "image/png": "[encoded data removed]"
          },
          "metadata": {}
        }
      ]
    },
    {
      "cell_type": "code",
      "source": [
        "import random\n",
        "test_shape = x_test.shape\n",
        "lim = test_shape[0]\n",
        "n=10\n",
        "plt.figure(figsize=(20, 4))\n",
        "for i in range(n):\n",
        "  index = random.randint(0,lim-1)\n",
        "  # menampilkan data original\n",
        "  print(index)\n",
        "  ax = plt.subplot(2, n, i + 1)\n",
        "  plt.imshow(x_test[index],cmap='gray')\n",
        "  plt.gray()\n",
        "  ax.get_xaxis().set_visible(False)\n",
        "  ax.get_yaxis().set_visible(False)\n",
        "\n",
        "  # menampilkan data yang telah direkonstruksi\n",
        "  ax = plt.subplot(2, n, i + 1 + n)\n",
        "  plt.imshow(autoencoder.predict([x_test[index].reshape(-1,28,28,1)])[0], cmap='gray')\n",
        "  plt.gray()\n",
        "  ax.get_xaxis().set_visible(False)\n",
        "  ax.get_yaxis().set_visible(False)\n",
        "plt.show()"
      ],
      "metadata": {
        "colab": {
          "base_uri": "https://localhost:8080/",
          "height": 690
        },
        "id": "5yNabtUNw3n3",
        "outputId": "dca18207-3358-42e2-eb75-d13de5377d56"
      },
      "execution_count": 54,
      "outputs": [
        {
          "output_type": "stream",
          "name": "stdout",
          "text": [
            "7977\n",
            "1/1 [==============================] - 0s 24ms/step\n",
            "5112\n",
            "1/1 [==============================] - 0s 27ms/step\n",
            "3337\n",
            "1/1 [==============================] - 0s 24ms/step\n",
            "8000\n",
            "1/1 [==============================] - 0s 33ms/step\n",
            "8974\n",
            "1/1 [==============================] - 0s 22ms/step\n",
            "1219\n",
            "1/1 [==============================] - 0s 23ms/step\n",
            "9202\n",
            "1/1 [==============================] - 0s 22ms/step\n",
            "6774\n",
            "1/1 [==============================] - 0s 25ms/step\n",
            "2872\n",
            "1/1 [==============================] - 0s 22ms/step\n",
            "6365\n",
            "1/1 [==============================] - 0s 27ms/step\n"
          ]
        },
        {
          "output_type": "display_data",
          "data": {
            "text/plain": [
              "<Figure size 2000x400 with 20 Axes>"
            ],
            "image/png": "[encoded data removed]"
          },
          "metadata": {}
        }
      ]
    }
  ]
}